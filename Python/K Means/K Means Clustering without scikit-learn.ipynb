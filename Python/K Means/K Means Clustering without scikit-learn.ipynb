{
 "cells": [
  {
   "cell_type": "code",
   "execution_count": 198,
   "metadata": {},
   "outputs": [],
   "source": [
    "#importing libraries\n",
    "import numpy as np\n",
    "import pandas as pd\n",
    "import matplotlib.pyplot as plt\n",
    "import seaborn as sns"
   ]
  },
  {
   "cell_type": "code",
   "execution_count": 199,
   "metadata": {},
   "outputs": [],
   "source": [
    "Data = { \n",
    "    'x': [22,37,42,41,29,34,40,32,38,40,16,11,9,25,4,33,49,50,45,37], \n",
    "    'y' : [62,55,79,45,37,72,54,39,66,78,43,31,40,47,6,13,49,56,75,72]\n",
    "       }"
   ]
  },
  {
   "cell_type": "code",
   "execution_count": 200,
   "metadata": {},
   "outputs": [],
   "source": [
    "X = Data['x']\n",
    "Y = Data['y']"
   ]
  },
  {
   "cell_type": "code",
   "execution_count": 201,
   "metadata": {},
   "outputs": [
    {
     "data": {
      "text/plain": [
       "Text(0, 0.5, 'y')"
      ]
     },
     "execution_count": 201,
     "metadata": {},
     "output_type": "execute_result"
    },
    {
     "data": {
      "image/png": "[encoded data removed]",
      "text/plain": [
       "<Figure size 360x360 with 1 Axes>"
      ]
     },
     "metadata": {
      "needs_background": "light"
     },
     "output_type": "display_data"
    }
   ],
   "source": [
    "plt.figure(figsize=(5,5))\n",
    "plt.scatter(X,Y)\n",
    "plt.xlabel(\"x\")\n",
    "plt.ylabel(\"y\")"
   ]
  },
  {
   "cell_type": "code",
   "execution_count": 202,
   "metadata": {},
   "outputs": [],
   "source": [
    "#function to select random  points to be centroids\n",
    "import random\n",
    "def select_centroids(noc,training_set_size):\n",
    "    x_point = []\n",
    "    y_point = []\n",
    "    for i in range(noc):\n",
    "        j = random.randint(1,training_set_size-1)\n",
    "        \n",
    "        x_point.append(X[j])\n",
    "        y_point.append(Y[j])\n",
    "        \n",
    "    centroids = {\"x\":x_point,\"y\":y_point}\n",
    "    return centroids"
   ]
  },
  {
   "cell_type": "code",
   "execution_count": 203,
   "metadata": {},
   "outputs": [
    {
     "name": "stdout",
     "output_type": "stream",
     "text": [
      "{'x': [37, 40, 29], 'y': [72, 54, 37]}\n"
     ]
    }
   ],
   "source": [
    "noc = 3\n",
    "centroids = select_centroids(noc,len(X))\n",
    "\n",
    "print(centroids)"
   ]
  },
  {
   "cell_type": "code",
   "execution_count": 204,
   "metadata": {},
   "outputs": [
    {
     "data": {
      "text/plain": [
       "Text(0, 0.5, 'y')"
      ]
     },
     "execution_count": 204,
     "metadata": {},
     "output_type": "execute_result"
    },
    {
     "data": {
      "image/png": "[encoded data removed]",
      "text/plain": [
       "<Figure size 360x360 with 1 Axes>"
      ]
     },
     "metadata": {
      "needs_background": "light"
     },
     "output_type": "display_data"
    }
   ],
   "source": [
    "plt.figure(figsize=(5,5))\n",
    "plt.scatter(X,Y)\n",
    "plt.scatter(centroids[\"x\"],centroids[\"y\"],color = \"red\")\n",
    "plt.xlabel(\"x\")\n",
    "plt.ylabel(\"y\")"
   ]
  },
  {
   "cell_type": "code",
   "execution_count": 205,
   "metadata": {},
   "outputs": [],
   "source": [
    "#finding distance of each point\n",
    "import math\n",
    "def find_distance(x1,y1,x2,y2):\n",
    "    dist = math.sqrt(((x1-x2)**2)+((y1-y2)**2))\n",
    "    return dist"
   ]
  },
  {
   "cell_type": "code",
   "execution_count": 206,
   "metadata": {},
   "outputs": [],
   "source": [
    "#finding distance of each point from centroid\n",
    "def find_dist_from_centroids(centroids,point_x,point_y):\n",
    "    distance = []\n",
    "    centroids_distance = {}\n",
    "    for i in range(len(centroids['x'])):\n",
    "        for j in range(len(X)):\n",
    "            distance.append(find_distance(centroids['x'][i],centroids['y'][i],point_x[i],point_y[j]))\n",
    "        centroids_distance[i] = distance\n",
    "        distance = []\n",
    "    return centroids_distance"
   ]
  },
  {
   "cell_type": "code",
   "execution_count": 207,
   "metadata": {},
   "outputs": [],
   "source": [
    "#calculating mean distance of each cluster point\n",
    "def mean_distance(df,x,y):\n",
    "    m = df.groupby(\"cluster\").mean()[[\"x\",\"y\"]]\n",
    "    return m"
   ]
  },
  {
   "cell_type": "code",
   "execution_count": 208,
   "metadata": {},
   "outputs": [],
   "source": [
    "#KMeans Function\n",
    "def kmeans(centroids,x,y):\n",
    "    diff = 1;\n",
    "    i = 0\n",
    "    while(diff!=0):\n",
    "        centroids_distance = find_dist_from_centroids(centroids,x,y)\n",
    "        df = pd.DataFrame()\n",
    "        df.iloc[0:0]\n",
    "        df = pd.DataFrame(find_dist_from_centroids(centroids,X,y))\n",
    "        df['cluster'] = df.idxmin(axis = 1)\n",
    "        df[\"x\"]=x\n",
    "        df[\"y\"]=y\n",
    "        new_centroids = mean_distance(df,x,y)\n",
    "        diff = ((new_centroids[\"x\"]-centroids[\"x\"]).sum()) + ((new_centroids[\"y\"]-centroids[\"y\"]).sum())\n",
    "        print(diff)\n",
    "        centroids = new_centroids\n",
    "        i+=1\n",
    "    return df"
   ]
  },
  {
   "cell_type": "code",
   "execution_count": 209,
   "metadata": {
    "scrolled": true
   },
   "outputs": [
    {
     "name": "stdout",
     "output_type": "stream",
     "text": [
      "-18.533333333333324\n",
      "-28.974358974358978\n",
      "0.0\n"
     ]
    },
    {
     "data": {
      "text/plain": [
       "<matplotlib.axes._subplots.AxesSubplot at 0x1a205bf1ac8>"
      ]
     },
     "execution_count": 209,
     "metadata": {},
     "output_type": "execute_result"
    },
    {
     "data": {
      "image/png": "[encoded data removed]",
      "text/plain": [
       "<Figure size 360x360 with 1 Axes>"
      ]
     },
     "metadata": {
      "needs_background": "light"
     },
     "output_type": "display_data"
    }
   ],
   "source": [
    "#plotting final clustering\n",
    "df_new = kmeans(centroids,X,Y)\n",
    "plt.figure(figsize=(5,5))\n",
    "sns.scatterplot(df_new['x'],df_new['y'],hue=df_new['cluster'],palette=[\"blue\",\"green\",\"yellow\"],s = 70)"
   ]
  }
 ],
 "metadata": {
  "kernelspec": {
   "display_name": "Python 3",
   "language": "python",
   "name": "python3"
  },
  "language_info": {
   "codemirror_mode": {
    "name": "ipython",
    "version": 3
   },
   "file_extension": ".py",
   "mimetype": "text/x-python",
   "name": "python",
   "nbconvert_exporter": "python",
   "pygments_lexer": "ipython3",
   "version": "3.7.6"
  }
 },
 "nbformat": 4,
 "nbformat_minor": 4
}
