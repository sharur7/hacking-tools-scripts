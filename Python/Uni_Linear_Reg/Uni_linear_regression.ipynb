{
 "cells": [
  {
   "cell_type": "markdown",
   "metadata": {},
   "source": [
    "# Implement Simple Linear Regression (Univariate Linear Regression)"
   ]
  },
  {
   "cell_type": "code",
   "execution_count": 83,
   "metadata": {},
   "outputs": [],
   "source": [
    "#imprting libraries\n",
    "import numpy as np\n",
    "import matplotlib.pyplot as plt"
   ]
  },
  {
   "cell_type": "code",
   "execution_count": 84,
   "metadata": {},
   "outputs": [],
   "source": [
    "def est_coef(x,y):\n",
    "    n = np.size(x)  #to calculat size of dataset\n",
    "    mean_x,mean_y = np.mean(x),np.mean(y)   #calculating mean value\n",
    "    # caluclating deviation around x\n",
    "    SS_xy = np.sum(y*x - n*mean_y*mean_x)    \n",
    "    SS_xx = np.sum(x*x - n*mean_x*mean_x)\n",
    "    #calculating regression coefficients\n",
    "    b_1 = SS_xy/SS_xx\n",
    "    b_0 = mean_y - b_1*mean_x\n",
    "    return (b_0,b_1)"
   ]
  },
  {
   "cell_type": "code",
   "execution_count": 85,
   "metadata": {},
   "outputs": [],
   "source": [
    "def plot_reg(x,y,b):\n",
    "    #plotting refrssion as per dataset\n",
    "    plt.scatter(x,y,color = \"m\",marker = \"o\", s = 30)\n",
    "    #predict data\n",
    "    y_pred= b[0] + b[1]*x\n",
    "    #plotting regression line\n",
    "    plt.plot(x,y_pred,color = \"g\")\n",
    "    #adding labels\n",
    "    plt.xlabel(\"Size\")\n",
    "    plt.ylabel(\"Cost\")\n",
    "    plt.show()"
   ]
  },
  {
   "cell_type": "code",
   "execution_count": 86,
   "metadata": {},
   "outputs": [],
   "source": [
    "def main():\n",
    "    #dataet creation\n",
    "    x = np.array([5,10,15,20,25,30,35,40,45,50,55,60,65,70,75,80,85,90,95,100]) \n",
    "    y = np.array([300,355,400,450,470,520,540,690,660,780,830,910,900,970,1060,1030,1090,1260,1350,1400])\n",
    "    #estimate coefficient\n",
    "    b = est_coef(x,y)\n",
    "    #plotting regression line\n",
    "    plot_reg(x,y,b)"
   ]
  },
  {
   "cell_type": "code",
   "execution_count": 87,
   "metadata": {},
   "outputs": [
    {
     "data": {
      "image/png": "[encoded data removed]",
      "text/plain": [
       "<Figure size 432x288 with 1 Axes>"
      ]
     },
     "metadata": {
      "needs_background": "light"
     },
     "output_type": "display_data"
    }
   ],
   "source": [
    "#calling main function\n",
    "if __name__ == \"__main__\":\n",
    "    main()"
   ]
  }
 ],
 "metadata": {
  "kernelspec": {
   "display_name": "Python 3",
   "language": "python",
   "name": "python3"
  },
  "language_info": {
   "codemirror_mode": {
    "name": "ipython",
    "version": 3
   },
   "file_extension": ".py",
   "mimetype": "text/x-python",
   "name": "python",
   "nbconvert_exporter": "python",
   "pygments_lexer": "ipython3",
   "version": "3.7.6"
  }
 },
 "nbformat": 4,
 "nbformat_minor": 4
}
